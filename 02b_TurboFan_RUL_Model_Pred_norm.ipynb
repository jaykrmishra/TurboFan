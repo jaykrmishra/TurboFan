{
 "cells": [
  {
   "cell_type": "code",
   "execution_count": 65,
   "metadata": {},
   "outputs": [],
   "source": [
    "import pandas as pd\n",
    "import numpy as np\n",
    "import seaborn as sns\n",
    "import matplotlib.pyplot as plt\n",
    "from sklearn.model_selection import learning_curve\n",
    "from sklearn.linear_model import LinearRegression\n",
    "from sklearn.linear_model import SGDRegressor\n",
    "from sklearn.ensemble import RandomForestRegressor\n",
    "from sklearn.svm import SVR\n",
    "import xgboost as xgb\n",
    "from sklearn.metrics import mean_absolute_error, mean_squared_error, r2_score\n",
    "from sklearn.model_selection import RandomizedSearchCV\n",
    "from sklearn.model_selection import GridSearchCV"
   ]
  },
  {
   "cell_type": "code",
   "execution_count": 66,
   "metadata": {},
   "outputs": [],
   "source": [
    "## Read pickle data\n",
    "\n",
    "df_train = pd.read_pickle(\"./df_train_norm_ts001.pkl\")\n",
    "df_test  = pd.read_pickle(\"./df_test_norm_ts001.pkl\")\n",
    "\n",
    "## For moving avg\n",
    "#df_train = pd.read_pickle(\"./df_train_mvavg_norm_ts001.pkl\")\n",
    "#df_test  = pd.read_pickle(\"./df_test_mvavg_norm_ts001.pkl\")"
   ]
  },
  {
   "cell_type": "code",
   "execution_count": 67,
   "metadata": {},
   "outputs": [
    {
     "data": {
      "text/html": [
       "<div>\n",
       "<style scoped>\n",
       "    .dataframe tbody tr th:only-of-type {\n",
       "        vertical-align: middle;\n",
       "    }\n",
       "\n",
       "    .dataframe tbody tr th {\n",
       "        vertical-align: top;\n",
       "    }\n",
       "\n",
       "    .dataframe thead th {\n",
       "        text-align: right;\n",
       "    }\n",
       "</style>\n",
       "<table border=\"1\" class=\"dataframe\">\n",
       "  <thead>\n",
       "    <tr style=\"text-align: right;\">\n",
       "      <th></th>\n",
       "      <th>unit</th>\n",
       "      <th>time</th>\n",
       "      <th>T24</th>\n",
       "      <th>T30</th>\n",
       "      <th>T50</th>\n",
       "      <th>P30</th>\n",
       "      <th>Nf</th>\n",
       "      <th>Nc</th>\n",
       "      <th>Ps30</th>\n",
       "      <th>phi</th>\n",
       "      <th>NRf</th>\n",
       "      <th>BPR</th>\n",
       "      <th>htBleed</th>\n",
       "      <th>W31</th>\n",
       "      <th>W32</th>\n",
       "      <th>RUL</th>\n",
       "    </tr>\n",
       "  </thead>\n",
       "  <tbody>\n",
       "    <tr>\n",
       "      <th>0</th>\n",
       "      <td>0.0</td>\n",
       "      <td>0.000000</td>\n",
       "      <td>0.183735</td>\n",
       "      <td>0.406802</td>\n",
       "      <td>0.309757</td>\n",
       "      <td>0.726248</td>\n",
       "      <td>0.242424</td>\n",
       "      <td>0.109755</td>\n",
       "      <td>0.369048</td>\n",
       "      <td>0.633262</td>\n",
       "      <td>0.205882</td>\n",
       "      <td>0.363986</td>\n",
       "      <td>0.333333</td>\n",
       "      <td>0.713178</td>\n",
       "      <td>0.724662</td>\n",
       "      <td>0.529086</td>\n",
       "    </tr>\n",
       "    <tr>\n",
       "      <th>1</th>\n",
       "      <td>0.0</td>\n",
       "      <td>0.002770</td>\n",
       "      <td>0.283133</td>\n",
       "      <td>0.453019</td>\n",
       "      <td>0.352633</td>\n",
       "      <td>0.628019</td>\n",
       "      <td>0.212121</td>\n",
       "      <td>0.100242</td>\n",
       "      <td>0.380952</td>\n",
       "      <td>0.765458</td>\n",
       "      <td>0.279412</td>\n",
       "      <td>0.411312</td>\n",
       "      <td>0.333333</td>\n",
       "      <td>0.666667</td>\n",
       "      <td>0.731014</td>\n",
       "      <td>0.526316</td>\n",
       "    </tr>\n",
       "    <tr>\n",
       "      <th>2</th>\n",
       "      <td>0.0</td>\n",
       "      <td>0.005540</td>\n",
       "      <td>0.343373</td>\n",
       "      <td>0.369523</td>\n",
       "      <td>0.370527</td>\n",
       "      <td>0.710145</td>\n",
       "      <td>0.272727</td>\n",
       "      <td>0.140043</td>\n",
       "      <td>0.250000</td>\n",
       "      <td>0.795309</td>\n",
       "      <td>0.220588</td>\n",
       "      <td>0.357445</td>\n",
       "      <td>0.166667</td>\n",
       "      <td>0.627907</td>\n",
       "      <td>0.621375</td>\n",
       "      <td>0.523546</td>\n",
       "    </tr>\n",
       "    <tr>\n",
       "      <th>3</th>\n",
       "      <td>0.0</td>\n",
       "      <td>0.008310</td>\n",
       "      <td>0.343373</td>\n",
       "      <td>0.256159</td>\n",
       "      <td>0.331195</td>\n",
       "      <td>0.740741</td>\n",
       "      <td>0.318182</td>\n",
       "      <td>0.124518</td>\n",
       "      <td>0.166667</td>\n",
       "      <td>0.889126</td>\n",
       "      <td>0.294118</td>\n",
       "      <td>0.166603</td>\n",
       "      <td>0.333333</td>\n",
       "      <td>0.573643</td>\n",
       "      <td>0.662386</td>\n",
       "      <td>0.520776</td>\n",
       "    </tr>\n",
       "    <tr>\n",
       "      <th>4</th>\n",
       "      <td>0.0</td>\n",
       "      <td>0.011080</td>\n",
       "      <td>0.349398</td>\n",
       "      <td>0.257467</td>\n",
       "      <td>0.404625</td>\n",
       "      <td>0.668277</td>\n",
       "      <td>0.242424</td>\n",
       "      <td>0.149960</td>\n",
       "      <td>0.255952</td>\n",
       "      <td>0.746269</td>\n",
       "      <td>0.235294</td>\n",
       "      <td>0.402078</td>\n",
       "      <td>0.416667</td>\n",
       "      <td>0.589147</td>\n",
       "      <td>0.704502</td>\n",
       "      <td>0.518006</td>\n",
       "    </tr>\n",
       "    <tr>\n",
       "      <th>...</th>\n",
       "      <td>...</td>\n",
       "      <td>...</td>\n",
       "      <td>...</td>\n",
       "      <td>...</td>\n",
       "      <td>...</td>\n",
       "      <td>...</td>\n",
       "      <td>...</td>\n",
       "      <td>...</td>\n",
       "      <td>...</td>\n",
       "      <td>...</td>\n",
       "      <td>...</td>\n",
       "      <td>...</td>\n",
       "      <td>...</td>\n",
       "      <td>...</td>\n",
       "      <td>...</td>\n",
       "      <td>...</td>\n",
       "    </tr>\n",
       "    <tr>\n",
       "      <th>20626</th>\n",
       "      <td>1.0</td>\n",
       "      <td>0.540166</td>\n",
       "      <td>0.686747</td>\n",
       "      <td>0.587312</td>\n",
       "      <td>0.782917</td>\n",
       "      <td>0.254428</td>\n",
       "      <td>0.439394</td>\n",
       "      <td>0.196491</td>\n",
       "      <td>0.726190</td>\n",
       "      <td>0.170576</td>\n",
       "      <td>0.558824</td>\n",
       "      <td>0.656791</td>\n",
       "      <td>0.750000</td>\n",
       "      <td>0.271318</td>\n",
       "      <td>0.109500</td>\n",
       "      <td>0.011080</td>\n",
       "    </tr>\n",
       "    <tr>\n",
       "      <th>20627</th>\n",
       "      <td>1.0</td>\n",
       "      <td>0.542936</td>\n",
       "      <td>0.701807</td>\n",
       "      <td>0.729453</td>\n",
       "      <td>0.866475</td>\n",
       "      <td>0.162641</td>\n",
       "      <td>0.500000</td>\n",
       "      <td>0.194651</td>\n",
       "      <td>0.708333</td>\n",
       "      <td>0.211087</td>\n",
       "      <td>0.500000</td>\n",
       "      <td>0.727203</td>\n",
       "      <td>0.583333</td>\n",
       "      <td>0.124031</td>\n",
       "      <td>0.366197</td>\n",
       "      <td>0.008310</td>\n",
       "    </tr>\n",
       "    <tr>\n",
       "      <th>20628</th>\n",
       "      <td>1.0</td>\n",
       "      <td>0.545706</td>\n",
       "      <td>0.665663</td>\n",
       "      <td>0.684979</td>\n",
       "      <td>0.775321</td>\n",
       "      <td>0.175523</td>\n",
       "      <td>0.515152</td>\n",
       "      <td>0.198196</td>\n",
       "      <td>0.738095</td>\n",
       "      <td>0.281450</td>\n",
       "      <td>0.529412</td>\n",
       "      <td>0.922278</td>\n",
       "      <td>0.833333</td>\n",
       "      <td>0.232558</td>\n",
       "      <td>0.053991</td>\n",
       "      <td>0.005540</td>\n",
       "    </tr>\n",
       "    <tr>\n",
       "      <th>20629</th>\n",
       "      <td>1.0</td>\n",
       "      <td>0.548476</td>\n",
       "      <td>0.608434</td>\n",
       "      <td>0.746021</td>\n",
       "      <td>0.747468</td>\n",
       "      <td>0.133655</td>\n",
       "      <td>0.530303</td>\n",
       "      <td>0.233285</td>\n",
       "      <td>0.916667</td>\n",
       "      <td>0.208955</td>\n",
       "      <td>0.514706</td>\n",
       "      <td>0.823394</td>\n",
       "      <td>0.583333</td>\n",
       "      <td>0.116279</td>\n",
       "      <td>0.234466</td>\n",
       "      <td>0.002770</td>\n",
       "    </tr>\n",
       "    <tr>\n",
       "      <th>20630</th>\n",
       "      <td>1.0</td>\n",
       "      <td>0.551247</td>\n",
       "      <td>0.795181</td>\n",
       "      <td>0.639634</td>\n",
       "      <td>0.842167</td>\n",
       "      <td>0.151369</td>\n",
       "      <td>0.545455</td>\n",
       "      <td>0.178363</td>\n",
       "      <td>0.803571</td>\n",
       "      <td>0.130064</td>\n",
       "      <td>0.558824</td>\n",
       "      <td>0.687572</td>\n",
       "      <td>0.666667</td>\n",
       "      <td>0.178295</td>\n",
       "      <td>0.218172</td>\n",
       "      <td>0.000000</td>\n",
       "    </tr>\n",
       "  </tbody>\n",
       "</table>\n",
       "<p>20631 rows × 16 columns</p>\n",
       "</div>"
      ],
      "text/plain": [
       "       unit      time       T24       T30       T50       P30        Nf  \\\n",
       "0       0.0  0.000000  0.183735  0.406802  0.309757  0.726248  0.242424   \n",
       "1       0.0  0.002770  0.283133  0.453019  0.352633  0.628019  0.212121   \n",
       "2       0.0  0.005540  0.343373  0.369523  0.370527  0.710145  0.272727   \n",
       "3       0.0  0.008310  0.343373  0.256159  0.331195  0.740741  0.318182   \n",
       "4       0.0  0.011080  0.349398  0.257467  0.404625  0.668277  0.242424   \n",
       "...     ...       ...       ...       ...       ...       ...       ...   \n",
       "20626   1.0  0.540166  0.686747  0.587312  0.782917  0.254428  0.439394   \n",
       "20627   1.0  0.542936  0.701807  0.729453  0.866475  0.162641  0.500000   \n",
       "20628   1.0  0.545706  0.665663  0.684979  0.775321  0.175523  0.515152   \n",
       "20629   1.0  0.548476  0.608434  0.746021  0.747468  0.133655  0.530303   \n",
       "20630   1.0  0.551247  0.795181  0.639634  0.842167  0.151369  0.545455   \n",
       "\n",
       "             Nc      Ps30       phi       NRf       BPR   htBleed       W31  \\\n",
       "0      0.109755  0.369048  0.633262  0.205882  0.363986  0.333333  0.713178   \n",
       "1      0.100242  0.380952  0.765458  0.279412  0.411312  0.333333  0.666667   \n",
       "2      0.140043  0.250000  0.795309  0.220588  0.357445  0.166667  0.627907   \n",
       "3      0.124518  0.166667  0.889126  0.294118  0.166603  0.333333  0.573643   \n",
       "4      0.149960  0.255952  0.746269  0.235294  0.402078  0.416667  0.589147   \n",
       "...         ...       ...       ...       ...       ...       ...       ...   \n",
       "20626  0.196491  0.726190  0.170576  0.558824  0.656791  0.750000  0.271318   \n",
       "20627  0.194651  0.708333  0.211087  0.500000  0.727203  0.583333  0.124031   \n",
       "20628  0.198196  0.738095  0.281450  0.529412  0.922278  0.833333  0.232558   \n",
       "20629  0.233285  0.916667  0.208955  0.514706  0.823394  0.583333  0.116279   \n",
       "20630  0.178363  0.803571  0.130064  0.558824  0.687572  0.666667  0.178295   \n",
       "\n",
       "            W32       RUL  \n",
       "0      0.724662  0.529086  \n",
       "1      0.731014  0.526316  \n",
       "2      0.621375  0.523546  \n",
       "3      0.662386  0.520776  \n",
       "4      0.704502  0.518006  \n",
       "...         ...       ...  \n",
       "20626  0.109500  0.011080  \n",
       "20627  0.366197  0.008310  \n",
       "20628  0.053991  0.005540  \n",
       "20629  0.234466  0.002770  \n",
       "20630  0.218172  0.000000  \n",
       "\n",
       "[20631 rows x 16 columns]"
      ]
     },
     "execution_count": 67,
     "metadata": {},
     "output_type": "execute_result"
    }
   ],
   "source": [
    "df_train"
   ]
  },
  {
   "cell_type": "code",
   "execution_count": null,
   "metadata": {},
   "outputs": [],
   "source": []
  },
  {
   "cell_type": "markdown",
   "metadata": {},
   "source": [
    "# Modeling and Prediction\n",
    "### Using SGD, RandomForest, SVM-SVR, XGBoost"
   ]
  },
  {
   "cell_type": "code",
   "execution_count": 68,
   "metadata": {},
   "outputs": [],
   "source": [
    "mod = SGDRegressor()           #r2 score = -0.09\n",
    "#mod = RandomForestRegressor()   #r2 score = -0.886\n",
    "#mod = SVR(gamma='scale')         #r2 score = -1.0982420402692572\n",
    "#mod = LinearRegression()          #-0.22042634578769915"
   ]
  },
  {
   "cell_type": "code",
   "execution_count": 69,
   "metadata": {},
   "outputs": [],
   "source": [
    "mod.fit(df_train.iloc[:,2:15], df_train.iloc[:,15])\n",
    "RUL_pred = mod.predict(df_test.iloc[:,2:15])"
   ]
  },
  {
   "cell_type": "code",
   "execution_count": 70,
   "metadata": {},
   "outputs": [
    {
     "data": {
      "text/plain": [
       "-0.06365474765462298"
      ]
     },
     "execution_count": 70,
     "metadata": {},
     "output_type": "execute_result"
    }
   ],
   "source": [
    "r2_score(df_test.iloc[:,15], RUL_pred)"
   ]
  },
  {
   "cell_type": "code",
   "execution_count": 93,
   "metadata": {},
   "outputs": [
    {
     "data": {
      "text/plain": [
       "<matplotlib.legend.Legend at 0x7fb6560078d0>"
      ]
     },
     "execution_count": 93,
     "metadata": {},
     "output_type": "execute_result"
    },
    {
     "data": {
      "image/png": "[encoded data removed]",
      "text/plain": [
       "<Figure size 576x396 with 1 Axes>"
      ]
     },
     "metadata": {},
     "output_type": "display_data"
    }
   ],
   "source": [
    "#plot actual vs predicted\n",
    "plt.plot(RUL_pred, label = 'Predicted')\n",
    "plt.plot(df_test.iloc[:,15], label = 'Actual')\n",
    "plt.plot(df_test.iloc[:,15]-RUL_pred, label = 'Error')\n",
    "plt.ylabel('r2 score', fontsize = 14)\n",
    "plt.xlabel('Time (no. of cycles)', fontsize = 14)\n",
    "plt.title('RUL error', fontsize = 18, y = 1.03)\n",
    "plt.legend()"
   ]
  },
  {
   "cell_type": "markdown",
   "metadata": {},
   "source": [
    "## Hyperparameter Tuning"
   ]
  },
  {
   "cell_type": "code",
   "execution_count": 78,
   "metadata": {},
   "outputs": [],
   "source": [
    "#Select best model with optimal hyperparameters\n",
    "\n",
    "\n",
    "model_params = {\n",
    "#    'sgd': {\n",
    "#        'model': SGDRegressor(),\n",
    "#        'params' : {\n",
    "#            \"alpha\": [0.001, 0.01, 0.1, 1, 10],\n",
    "#            \"penalty\": [\"none\", \"l1\", \"l2\"]\n",
    "#        }\n",
    "#    },    \n",
    "    'random_forest': {\n",
    "        'model': RandomForestRegressor(),\n",
    "        'params' : {\n",
    "            'n_estimators':[100, 150, 200, 300]    #[40, 60, 80, 100]\n",
    "        }\n",
    "    },\n",
    "    'svm':{\n",
    "        'model': SVR(gamma='auto'),\n",
    "        'params':{\n",
    "            'C':[30, 50, 70, 100],           #'C':[1, 10, 20],\n",
    "            'kernel':['rbf']            #['rbf', 'linear']\n",
    "        }\n",
    "    },\n",
    "    \n",
    "}\n"
   ]
  },
  {
   "cell_type": "code",
   "execution_count": 79,
   "metadata": {},
   "outputs": [],
   "source": [
    "scores = []\n",
    "\n",
    "for model_name, mp in model_params.items():\n",
    "    mod = GridSearchCV(mp['model'], mp['params'], cv=5, return_train_score=False)\n",
    "    mod.fit(np.asarray(df_test.iloc[:,2:15]), df_test.iloc[:,15])\n",
    "    scores.append({\n",
    "        'model':model_name,\n",
    "        'best_score':mod.best_score_,\n",
    "        'best_params':mod.best_params_\n",
    "    })"
   ]
  },
  {
   "cell_type": "markdown",
   "metadata": {},
   "source": [
    "model_params = {\n",
    "    'sgd': {\n",
    "        'model': SGDRegressor(),\n",
    "        'params' : {\n",
    "            \"alpha\": [0.001, 0.01, 0.1, 1, 10],\n",
    "            \"penalty\": [\"none\", \"l1\", \"l2\"]\n",
    "        }\n",
    "    },    \n",
    "    'random_forest': {\n",
    "        'model': RandomForestRegressor(),\n",
    "        'params' : {\n",
    "            'n_estimators':[40, 60, 80, 100]\n",
    "        }\n",
    "    },\n",
    "    'svm':{\n",
    "        'model': SVR(gamma='auto'),\n",
    "        'params':{\n",
    "            'C':[30, 50, 70],          \n",
    "            'kernel':['rbf']            \n",
    "        }\n",
    "    },\n",
    "    \n",
    "}\n",
    "\n",
    "\n",
    "scores:\n",
    "\n",
    "[{'model': 'sgd',\n",
    "  'best_score': 0.30072262955114154,\n",
    "  'best_params': {'alpha': 0.01, 'penalty': 'none'}},\n",
    " {'model': 'random_forest',\n",
    "  'best_score': 0.3351973906172864,\n",
    "  'best_params': {'n_estimators': 100}},\n",
    " {'model': 'svm',\n",
    "  'best_score': 0.3467897727626246,\n",
    "  'best_params': {'C': 20, 'kernel': 'rbf'}}]\n",
    "  \n",
    "  [{'model': 'random_forest',\n",
    "  'best_score': 0.3402758573970256,\n",
    "  'best_params': {'n_estimators': 300}},\n",
    " {'model': 'svm',\n",
    "  'best_score': 0.3469257868327697,\n",
    "  'best_params': {'C': 70, 'kernel': 'rbf'}}]"
   ]
  },
  {
   "cell_type": "code",
   "execution_count": 80,
   "metadata": {},
   "outputs": [
    {
     "data": {
      "text/plain": [
       "[{'model': 'random_forest',\n",
       "  'best_score': 0.3402758573970256,\n",
       "  'best_params': {'n_estimators': 300}},\n",
       " {'model': 'svm',\n",
       "  'best_score': 0.3469257868327697,\n",
       "  'best_params': {'C': 70, 'kernel': 'rbf'}}]"
      ]
     },
     "execution_count": 80,
     "metadata": {},
     "output_type": "execute_result"
    }
   ],
   "source": [
    "scores"
   ]
  },
  {
   "cell_type": "markdown",
   "metadata": {},
   "source": [
    "## Best  Model\n",
    "\n",
    "### SVR, C=70, kernel = rbf\n"
   ]
  },
  {
   "cell_type": "markdown",
   "metadata": {},
   "source": [
    "# Learning Curves with the best model"
   ]
  },
  {
   "cell_type": "code",
   "execution_count": 94,
   "metadata": {},
   "outputs": [],
   "source": [
    "train_sizes=[1.0, 0.75, 0.5, 0.2, 0.1,0.01]\n",
    "#train_sizes=[100000,20000,5000,1000]\n",
    "svr = SVR(kernel='rbf', C=70)\n",
    "train_sizes, train_scores, validation_scores = learning_curve(\n",
    "estimator = svr,\n",
    "train_sizes=train_sizes,\n",
    "X = df_train.iloc[:,2:15],\n",
    "y = df_train.iloc[:,15], cv = 3)"
   ]
  },
  {
   "cell_type": "code",
   "execution_count": 95,
   "metadata": {},
   "outputs": [
    {
     "name": "stdout",
     "output_type": "stream",
     "text": [
      "Mean training scores\n",
      "\n",
      " 137      0.659457\n",
      "1375     0.851732\n",
      "2750     0.835943\n",
      "6877     0.743565\n",
      "10315    0.738836\n",
      "13754    0.684133\n",
      "dtype: float64\n",
      "\n",
      " --------------------\n",
      "\n",
      "Mean validation scores\n",
      "\n",
      " 137      0.265070\n",
      "1375     0.440823\n",
      "2750     0.518477\n",
      "6877     0.503978\n",
      "10315    0.541469\n",
      "13754    0.551721\n",
      "dtype: float64\n"
     ]
    }
   ],
   "source": [
    "train_scores_mean = train_scores.mean(axis = 1)\n",
    "validation_scores_mean = validation_scores.mean(axis = 1 )\n",
    "print('Mean training scores\\n\\n', pd.Series(train_scores_mean, index = train_sizes))\n",
    "print('\\n', '-' * 20) # separator\n",
    "print('\\nMean validation scores\\n\\n',pd.Series(validation_scores_mean, index = train_sizes))"
   ]
  },
  {
   "cell_type": "code",
   "execution_count": 96,
   "metadata": {},
   "outputs": [
    {
     "data": {
      "text/plain": [
       "<matplotlib.legend.Legend at 0x7fb654443bd0>"
      ]
     },
     "execution_count": 96,
     "metadata": {},
     "output_type": "execute_result"
    },
    {
     "data": {
      "image/png": "[encoded data removed]",
      "text/plain": [
       "<Figure size 576x396 with 1 Axes>"
      ]
     },
     "metadata": {},
     "output_type": "display_data"
    }
   ],
   "source": [
    "plt.style.use('seaborn')\n",
    "plt.plot(train_sizes, train_scores_mean, label = 'Training error')\n",
    "plt.plot(train_sizes, validation_scores_mean, label = 'Validation error')\n",
    "plt.ylabel('MSE', fontsize = 14)\n",
    "plt.xlabel('Training set size', fontsize = 14)\n",
    "plt.title('Learning curves for a linear regression model', fontsize = 18, y = 1.03)\n",
    "plt.legend()\n",
    "#plt.ylim(0,40)"
   ]
  },
  {
   "cell_type": "markdown",
   "metadata": {},
   "source": [
    "### Conclusion: \n",
    "### WE need more training data as training error is still decreasing"
   ]
  }
 ],
 "metadata": {
  "kernelspec": {
   "display_name": "Python 3",
   "language": "python",
   "name": "python3"
  },
  "language_info": {
   "codemirror_mode": {
    "name": "ipython",
    "version": 3
   },
   "file_extension": ".py",
   "mimetype": "text/x-python",
   "name": "python",
   "nbconvert_exporter": "python",
   "pygments_lexer": "ipython3",
   "version": "3.7.6"
  }
 },
 "nbformat": 4,
 "nbformat_minor": 4
}
