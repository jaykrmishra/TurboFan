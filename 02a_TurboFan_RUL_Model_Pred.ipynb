{
 "cells": [
  {
   "cell_type": "code",
   "execution_count": 97,
   "metadata": {},
   "outputs": [],
   "source": [
    "import pandas as pd\n",
    "import numpy as np\n",
    "import seaborn as sns\n",
    "import matplotlib.pyplot as plt\n",
    "from sklearn.model_selection import learning_curve\n",
    "from sklearn.linear_model import LinearRegression\n",
    "from sklearn.linear_model import SGDRegressor\n",
    "from sklearn.ensemble import RandomForestRegressor\n",
    "from sklearn.svm import SVR\n",
    "import xgboost as xgb\n",
    "from sklearn.metrics import mean_absolute_error, mean_squared_error, r2_score\n",
    "from sklearn.model_selection import RandomizedSearchCV\n",
    "from sklearn.model_selection import GridSearchCV"
   ]
  },
  {
   "cell_type": "code",
   "execution_count": 98,
   "metadata": {},
   "outputs": [],
   "source": [
    "## Read pickle data\n",
    "\n",
    "df_train = pd.read_pickle(\"./df_train_ts001.pkl\")\n",
    "df_test  = pd.read_pickle(\"./df_test_ts001.pkl\")\n",
    "\n",
    "## For moving avg\n",
    "#df_train = pd.read_pickle(\"./df_train_mvavg_norm_ts001.pkl\")\n",
    "#df_test  = pd.read_pickle(\"./df_test_mvavg_norm_ts001.pkl\")"
   ]
  },
  {
   "cell_type": "code",
   "execution_count": 99,
   "metadata": {},
   "outputs": [
    {
     "data": {
      "text/html": [
       "<div>\n",
       "<style scoped>\n",
       "    .dataframe tbody tr th:only-of-type {\n",
       "        vertical-align: middle;\n",
       "    }\n",
       "\n",
       "    .dataframe tbody tr th {\n",
       "        vertical-align: top;\n",
       "    }\n",
       "\n",
       "    .dataframe thead th {\n",
       "        text-align: right;\n",
       "    }\n",
       "</style>\n",
       "<table border=\"1\" class=\"dataframe\">\n",
       "  <thead>\n",
       "    <tr style=\"text-align: right;\">\n",
       "      <th></th>\n",
       "      <th>unit</th>\n",
       "      <th>time</th>\n",
       "      <th>T24</th>\n",
       "      <th>T30</th>\n",
       "      <th>T50</th>\n",
       "      <th>P30</th>\n",
       "      <th>Nf</th>\n",
       "      <th>Nc</th>\n",
       "      <th>Ps30</th>\n",
       "      <th>phi</th>\n",
       "      <th>NRf</th>\n",
       "      <th>BPR</th>\n",
       "      <th>htBleed</th>\n",
       "      <th>W31</th>\n",
       "      <th>W32</th>\n",
       "      <th>RUL</th>\n",
       "    </tr>\n",
       "  </thead>\n",
       "  <tbody>\n",
       "    <tr>\n",
       "      <th>0</th>\n",
       "      <td>1</td>\n",
       "      <td>1</td>\n",
       "      <td>641.82</td>\n",
       "      <td>1589.70</td>\n",
       "      <td>1400.60</td>\n",
       "      <td>554.36</td>\n",
       "      <td>2388.06</td>\n",
       "      <td>9046.19</td>\n",
       "      <td>47.47</td>\n",
       "      <td>521.66</td>\n",
       "      <td>2388.02</td>\n",
       "      <td>8.4195</td>\n",
       "      <td>392</td>\n",
       "      <td>39.06</td>\n",
       "      <td>23.4190</td>\n",
       "      <td>191</td>\n",
       "    </tr>\n",
       "    <tr>\n",
       "      <th>1</th>\n",
       "      <td>1</td>\n",
       "      <td>2</td>\n",
       "      <td>642.15</td>\n",
       "      <td>1591.82</td>\n",
       "      <td>1403.14</td>\n",
       "      <td>553.75</td>\n",
       "      <td>2388.04</td>\n",
       "      <td>9044.07</td>\n",
       "      <td>47.49</td>\n",
       "      <td>522.28</td>\n",
       "      <td>2388.07</td>\n",
       "      <td>8.4318</td>\n",
       "      <td>392</td>\n",
       "      <td>39.00</td>\n",
       "      <td>23.4236</td>\n",
       "      <td>190</td>\n",
       "    </tr>\n",
       "    <tr>\n",
       "      <th>2</th>\n",
       "      <td>1</td>\n",
       "      <td>3</td>\n",
       "      <td>642.35</td>\n",
       "      <td>1587.99</td>\n",
       "      <td>1404.20</td>\n",
       "      <td>554.26</td>\n",
       "      <td>2388.08</td>\n",
       "      <td>9052.94</td>\n",
       "      <td>47.27</td>\n",
       "      <td>522.42</td>\n",
       "      <td>2388.03</td>\n",
       "      <td>8.4178</td>\n",
       "      <td>390</td>\n",
       "      <td>38.95</td>\n",
       "      <td>23.3442</td>\n",
       "      <td>189</td>\n",
       "    </tr>\n",
       "    <tr>\n",
       "      <th>3</th>\n",
       "      <td>1</td>\n",
       "      <td>4</td>\n",
       "      <td>642.35</td>\n",
       "      <td>1582.79</td>\n",
       "      <td>1401.87</td>\n",
       "      <td>554.45</td>\n",
       "      <td>2388.11</td>\n",
       "      <td>9049.48</td>\n",
       "      <td>47.13</td>\n",
       "      <td>522.86</td>\n",
       "      <td>2388.08</td>\n",
       "      <td>8.3682</td>\n",
       "      <td>392</td>\n",
       "      <td>38.88</td>\n",
       "      <td>23.3739</td>\n",
       "      <td>188</td>\n",
       "    </tr>\n",
       "    <tr>\n",
       "      <th>4</th>\n",
       "      <td>1</td>\n",
       "      <td>5</td>\n",
       "      <td>642.37</td>\n",
       "      <td>1582.85</td>\n",
       "      <td>1406.22</td>\n",
       "      <td>554.00</td>\n",
       "      <td>2388.06</td>\n",
       "      <td>9055.15</td>\n",
       "      <td>47.28</td>\n",
       "      <td>522.19</td>\n",
       "      <td>2388.04</td>\n",
       "      <td>8.4294</td>\n",
       "      <td>393</td>\n",
       "      <td>38.90</td>\n",
       "      <td>23.4044</td>\n",
       "      <td>187</td>\n",
       "    </tr>\n",
       "    <tr>\n",
       "      <th>...</th>\n",
       "      <td>...</td>\n",
       "      <td>...</td>\n",
       "      <td>...</td>\n",
       "      <td>...</td>\n",
       "      <td>...</td>\n",
       "      <td>...</td>\n",
       "      <td>...</td>\n",
       "      <td>...</td>\n",
       "      <td>...</td>\n",
       "      <td>...</td>\n",
       "      <td>...</td>\n",
       "      <td>...</td>\n",
       "      <td>...</td>\n",
       "      <td>...</td>\n",
       "      <td>...</td>\n",
       "      <td>...</td>\n",
       "    </tr>\n",
       "    <tr>\n",
       "      <th>20626</th>\n",
       "      <td>100</td>\n",
       "      <td>196</td>\n",
       "      <td>643.49</td>\n",
       "      <td>1597.98</td>\n",
       "      <td>1428.63</td>\n",
       "      <td>551.43</td>\n",
       "      <td>2388.19</td>\n",
       "      <td>9065.52</td>\n",
       "      <td>48.07</td>\n",
       "      <td>519.49</td>\n",
       "      <td>2388.26</td>\n",
       "      <td>8.4956</td>\n",
       "      <td>397</td>\n",
       "      <td>38.49</td>\n",
       "      <td>22.9735</td>\n",
       "      <td>4</td>\n",
       "    </tr>\n",
       "    <tr>\n",
       "      <th>20627</th>\n",
       "      <td>100</td>\n",
       "      <td>197</td>\n",
       "      <td>643.54</td>\n",
       "      <td>1604.50</td>\n",
       "      <td>1433.58</td>\n",
       "      <td>550.86</td>\n",
       "      <td>2388.23</td>\n",
       "      <td>9065.11</td>\n",
       "      <td>48.04</td>\n",
       "      <td>519.68</td>\n",
       "      <td>2388.22</td>\n",
       "      <td>8.5139</td>\n",
       "      <td>395</td>\n",
       "      <td>38.30</td>\n",
       "      <td>23.1594</td>\n",
       "      <td>3</td>\n",
       "    </tr>\n",
       "    <tr>\n",
       "      <th>20628</th>\n",
       "      <td>100</td>\n",
       "      <td>198</td>\n",
       "      <td>643.42</td>\n",
       "      <td>1602.46</td>\n",
       "      <td>1428.18</td>\n",
       "      <td>550.94</td>\n",
       "      <td>2388.24</td>\n",
       "      <td>9065.90</td>\n",
       "      <td>48.09</td>\n",
       "      <td>520.01</td>\n",
       "      <td>2388.24</td>\n",
       "      <td>8.5646</td>\n",
       "      <td>398</td>\n",
       "      <td>38.44</td>\n",
       "      <td>22.9333</td>\n",
       "      <td>2</td>\n",
       "    </tr>\n",
       "    <tr>\n",
       "      <th>20629</th>\n",
       "      <td>100</td>\n",
       "      <td>199</td>\n",
       "      <td>643.23</td>\n",
       "      <td>1605.26</td>\n",
       "      <td>1426.53</td>\n",
       "      <td>550.68</td>\n",
       "      <td>2388.25</td>\n",
       "      <td>9073.72</td>\n",
       "      <td>48.39</td>\n",
       "      <td>519.67</td>\n",
       "      <td>2388.23</td>\n",
       "      <td>8.5389</td>\n",
       "      <td>395</td>\n",
       "      <td>38.29</td>\n",
       "      <td>23.0640</td>\n",
       "      <td>1</td>\n",
       "    </tr>\n",
       "    <tr>\n",
       "      <th>20630</th>\n",
       "      <td>100</td>\n",
       "      <td>200</td>\n",
       "      <td>643.85</td>\n",
       "      <td>1600.38</td>\n",
       "      <td>1432.14</td>\n",
       "      <td>550.79</td>\n",
       "      <td>2388.26</td>\n",
       "      <td>9061.48</td>\n",
       "      <td>48.20</td>\n",
       "      <td>519.30</td>\n",
       "      <td>2388.26</td>\n",
       "      <td>8.5036</td>\n",
       "      <td>396</td>\n",
       "      <td>38.37</td>\n",
       "      <td>23.0522</td>\n",
       "      <td>0</td>\n",
       "    </tr>\n",
       "  </tbody>\n",
       "</table>\n",
       "<p>20631 rows × 16 columns</p>\n",
       "</div>"
      ],
      "text/plain": [
       "       unit  time     T24      T30      T50     P30       Nf       Nc   Ps30  \\\n",
       "0         1     1  641.82  1589.70  1400.60  554.36  2388.06  9046.19  47.47   \n",
       "1         1     2  642.15  1591.82  1403.14  553.75  2388.04  9044.07  47.49   \n",
       "2         1     3  642.35  1587.99  1404.20  554.26  2388.08  9052.94  47.27   \n",
       "3         1     4  642.35  1582.79  1401.87  554.45  2388.11  9049.48  47.13   \n",
       "4         1     5  642.37  1582.85  1406.22  554.00  2388.06  9055.15  47.28   \n",
       "...     ...   ...     ...      ...      ...     ...      ...      ...    ...   \n",
       "20626   100   196  643.49  1597.98  1428.63  551.43  2388.19  9065.52  48.07   \n",
       "20627   100   197  643.54  1604.50  1433.58  550.86  2388.23  9065.11  48.04   \n",
       "20628   100   198  643.42  1602.46  1428.18  550.94  2388.24  9065.90  48.09   \n",
       "20629   100   199  643.23  1605.26  1426.53  550.68  2388.25  9073.72  48.39   \n",
       "20630   100   200  643.85  1600.38  1432.14  550.79  2388.26  9061.48  48.20   \n",
       "\n",
       "          phi      NRf     BPR  htBleed    W31      W32  RUL  \n",
       "0      521.66  2388.02  8.4195      392  39.06  23.4190  191  \n",
       "1      522.28  2388.07  8.4318      392  39.00  23.4236  190  \n",
       "2      522.42  2388.03  8.4178      390  38.95  23.3442  189  \n",
       "3      522.86  2388.08  8.3682      392  38.88  23.3739  188  \n",
       "4      522.19  2388.04  8.4294      393  38.90  23.4044  187  \n",
       "...       ...      ...     ...      ...    ...      ...  ...  \n",
       "20626  519.49  2388.26  8.4956      397  38.49  22.9735    4  \n",
       "20627  519.68  2388.22  8.5139      395  38.30  23.1594    3  \n",
       "20628  520.01  2388.24  8.5646      398  38.44  22.9333    2  \n",
       "20629  519.67  2388.23  8.5389      395  38.29  23.0640    1  \n",
       "20630  519.30  2388.26  8.5036      396  38.37  23.0522    0  \n",
       "\n",
       "[20631 rows x 16 columns]"
      ]
     },
     "execution_count": 99,
     "metadata": {},
     "output_type": "execute_result"
    }
   ],
   "source": [
    "df_train"
   ]
  },
  {
   "cell_type": "markdown",
   "metadata": {},
   "source": [
    "# Modeling and Prediction\n",
    "### Using SGD, RandomForest, SVM-SVR"
   ]
  },
  {
   "cell_type": "code",
   "execution_count": 103,
   "metadata": {},
   "outputs": [],
   "source": [
    "mod = SGDRegressor()           #r2 score = -0.09\n",
    "#mod = RandomForestRegressor()   #r2 score = -0.886\n",
    "#mod = SVR(gamma='scale')         #r2 score = -1.0982420402692572\n",
    "#mod = LinearRegression()          #-0.22042634578769915"
   ]
  },
  {
   "cell_type": "code",
   "execution_count": 104,
   "metadata": {},
   "outputs": [],
   "source": [
    "mod.fit(df_train.iloc[:,2:15], df_train.iloc[:,15])\n",
    "RUL_pred = mod.predict(df_test.iloc[:,2:15])"
   ]
  },
  {
   "cell_type": "code",
   "execution_count": 105,
   "metadata": {},
   "outputs": [
    {
     "data": {
      "text/plain": [
       "-3.614651425997315e+29"
      ]
     },
     "execution_count": 105,
     "metadata": {},
     "output_type": "execute_result"
    }
   ],
   "source": [
    "r2_score(df_test.iloc[:,15], RUL_pred)"
   ]
  },
  {
   "cell_type": "code",
   "execution_count": 106,
   "metadata": {},
   "outputs": [
    {
     "data": {
      "text/plain": [
       "<matplotlib.legend.Legend at 0x7fb65444f9d0>"
      ]
     },
     "execution_count": 106,
     "metadata": {},
     "output_type": "execute_result"
    },
    {
     "data": {
      "image/png": "[encoded data removed]",
      "text/plain": [
       "<Figure size 576x396 with 1 Axes>"
      ]
     },
     "metadata": {},
     "output_type": "display_data"
    }
   ],
   "source": [
    "#plot actual vs predicted\n",
    "plt.plot(RUL_pred, label = 'Predicted')\n",
    "plt.plot(df_test.iloc[:,15], label = 'Actual')\n",
    "plt.plot(df_test.iloc[:,15]-RUL_pred, label = 'Error')\n",
    "plt.ylabel('r2 score', fontsize = 14)\n",
    "plt.xlabel('Time (no. of cycles)', fontsize = 14)\n",
    "plt.title('RUL error', fontsize = 18, y = 1.03)\n",
    "plt.legend()"
   ]
  },
  {
   "cell_type": "markdown",
   "metadata": {},
   "source": [
    "## Hyperparameter Tuning"
   ]
  },
  {
   "cell_type": "code",
   "execution_count": 100,
   "metadata": {},
   "outputs": [],
   "source": [
    "#Select best model with optimal hyperparameters\n",
    "\n",
    "\n",
    "model_params = {\n",
    "#    'sgd': {\n",
    "#        'model': SGDRegressor(),\n",
    "#        'params' : {\n",
    "#            \"alpha\": [0.001, 0.01, 0.1, 1, 10],\n",
    "#            \"penalty\": [\"none\", \"l1\", \"l2\"]\n",
    "#        }\n",
    "#    },    \n",
    "    'random_forest': {\n",
    "        'model': RandomForestRegressor(),\n",
    "        'params' : {\n",
    "            'n_estimators':[100, 150, 200, 300]    #[40, 60, 80, 100]\n",
    "        }\n",
    "    },\n",
    "    'svm':{\n",
    "        'model': SVR(gamma='auto'),\n",
    "        'params':{\n",
    "            'C':[30, 50, 70, 100],           #'C':[1, 10, 20],\n",
    "            'kernel':['rbf']            #['rbf', 'linear']\n",
    "        }\n",
    "    },\n",
    "    \n",
    "}\n"
   ]
  },
  {
   "cell_type": "code",
   "execution_count": 101,
   "metadata": {},
   "outputs": [],
   "source": [
    "scores = []\n",
    "\n",
    "for model_name, mp in model_params.items():\n",
    "    mod = GridSearchCV(mp['model'], mp['params'], cv=5, return_train_score=False)\n",
    "    mod.fit(np.asarray(df_test.iloc[:,2:15]), df_test.iloc[:,15])\n",
    "    scores.append({\n",
    "        'model':model_name,\n",
    "        'best_score':mod.best_score_,\n",
    "        'best_params':mod.best_params_\n",
    "    })"
   ]
  },
  {
   "cell_type": "markdown",
   "metadata": {},
   "source": [
    "model_params = {\n",
    "    'sgd': {\n",
    "        'model': SGDRegressor(),\n",
    "        'params' : {\n",
    "            \"alpha\": [0.001, 0.01, 0.1, 1, 10],\n",
    "            \"penalty\": [\"none\", \"l1\", \"l2\"]\n",
    "        }\n",
    "    },    \n",
    "    'random_forest': {\n",
    "        'model': RandomForestRegressor(),\n",
    "        'params' : {\n",
    "            'n_estimators':[40, 60, 80, 100]\n",
    "        }\n",
    "    },\n",
    "    'svm':{\n",
    "        'model': SVR(gamma='auto'),\n",
    "        'params':{\n",
    "            'C':[30, 50, 70],          \n",
    "            'kernel':['rbf']            \n",
    "        }\n",
    "    },\n",
    "    \n",
    "}\n",
    "\n",
    "\n",
    "scores:\n",
    "\n",
    "[{'model': 'sgd',\n",
    "  'best_score': 0.30072262955114154,\n",
    "  'best_params': {'alpha': 0.01, 'penalty': 'none'}},\n",
    " {'model': 'random_forest',\n",
    "  'best_score': 0.3351973906172864,\n",
    "  'best_params': {'n_estimators': 100}},\n",
    " {'model': 'svm',\n",
    "  'best_score': 0.3467897727626246,\n",
    "  'best_params': {'C': 20, 'kernel': 'rbf'}}]\n",
    "  \n",
    "  [{'model': 'random_forest',\n",
    "  'best_score': 0.3402758573970256,\n",
    "  'best_params': {'n_estimators': 300}},\n",
    " {'model': 'svm',\n",
    "  'best_score': 0.3469257868327697,\n",
    "  'best_params': {'C': 70, 'kernel': 'rbf'}}]"
   ]
  },
  {
   "cell_type": "code",
   "execution_count": 110,
   "metadata": {},
   "outputs": [
    {
     "data": {
      "text/plain": [
       "[{'model': 'random_forest',\n",
       "  'best_score': 0.33897313914560145,\n",
       "  'best_params': {'n_estimators': 200}},\n",
       " {'model': 'svm',\n",
       "  'best_score': 0.28067689236925525,\n",
       "  'best_params': {'C': 30, 'kernel': 'rbf'}}]"
      ]
     },
     "execution_count": 110,
     "metadata": {},
     "output_type": "execute_result"
    }
   ],
   "source": [
    "scores"
   ]
  },
  {
   "cell_type": "markdown",
   "metadata": {},
   "source": [
    "## Best  Model\n",
    "\n",
    "### SVR, C=70, kernel = rbf\n"
   ]
  },
  {
   "cell_type": "markdown",
   "metadata": {},
   "source": [
    "# Learning Curves with the best model"
   ]
  },
  {
   "cell_type": "code",
   "execution_count": 108,
   "metadata": {},
   "outputs": [],
   "source": [
    "train_sizes=[1.0, 0.75, 0.5, 0.2, 0.1,0.01]\n",
    "#train_sizes=[100000,20000,5000,1000]\n",
    "rfr = RandomForestRegressor(n_estimators=200)\n",
    "train_sizes, train_scores, validation_scores = learning_curve(\n",
    "estimator = rfr,\n",
    "train_sizes=train_sizes,\n",
    "X = df_train.iloc[:,2:15],\n",
    "y = df_train.iloc[:,15], cv = 3)"
   ]
  },
  {
   "cell_type": "code",
   "execution_count": 111,
   "metadata": {},
   "outputs": [
    {
     "name": "stdout",
     "output_type": "stream",
     "text": [
      "Mean training scores\n",
      "\n",
      " 137      0.952491\n",
      "1375     0.975330\n",
      "2750     0.973841\n",
      "6877     0.957014\n",
      "10315    0.957697\n",
      "13754    0.949681\n",
      "dtype: float64\n",
      "\n",
      " --------------------\n",
      "\n",
      "Mean validation scores\n",
      "\n",
      " 137      0.348043\n",
      "1375     0.535245\n",
      "2750     0.585832\n",
      "6877     0.581278\n",
      "10315    0.592187\n",
      "13754    0.602691\n",
      "dtype: float64\n"
     ]
    }
   ],
   "source": [
    "train_scores_mean = train_scores.mean(axis = 1)\n",
    "validation_scores_mean = validation_scores.mean(axis = 1 )\n",
    "print('Mean training scores\\n\\n', pd.Series(train_scores_mean, index = train_sizes))\n",
    "print('\\n', '-' * 20) # separator\n",
    "print('\\nMean validation scores\\n\\n',pd.Series(validation_scores_mean, index = train_sizes))"
   ]
  },
  {
   "cell_type": "code",
   "execution_count": 112,
   "metadata": {},
   "outputs": [
    {
     "data": {
      "text/plain": [
       "<matplotlib.legend.Legend at 0x7fb6543b9b90>"
      ]
     },
     "execution_count": 112,
     "metadata": {},
     "output_type": "execute_result"
    },
    {
     "data": {
      "image/png": "[encoded data removed]",
      "text/plain": [
       "<Figure size 576x396 with 1 Axes>"
      ]
     },
     "metadata": {},
     "output_type": "display_data"
    }
   ],
   "source": [
    "plt.style.use('seaborn')\n",
    "plt.plot(train_sizes, train_scores_mean, label = 'Training error')\n",
    "plt.plot(train_sizes, validation_scores_mean, label = 'Validation error')\n",
    "plt.ylabel('MSE', fontsize = 14)\n",
    "plt.xlabel('Training set size', fontsize = 14)\n",
    "plt.title('Learning curves for a linear regression model', fontsize = 18, y = 1.03)\n",
    "plt.legend()\n",
    "#plt.ylim(0,40)"
   ]
  }
 ],
 "metadata": {
  "kernelspec": {
   "display_name": "Python 3",
   "language": "python",
   "name": "python3"
  },
  "language_info": {
   "codemirror_mode": {
    "name": "ipython",
    "version": 3
   },
   "file_extension": ".py",
   "mimetype": "text/x-python",
   "name": "python",
   "nbconvert_exporter": "python",
   "pygments_lexer": "ipython3",
   "version": "3.7.6"
  }
 },
 "nbformat": 4,
 "nbformat_minor": 4
}
